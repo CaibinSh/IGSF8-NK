{
 "cells": [
  {
   "cell_type": "markdown",
   "id": "8ddcfc64-76e7-4ab4-b9ba-fdafccfb7a84",
   "metadata": {},
   "source": [
    "# Import packages"
   ]
  },
  {
   "cell_type": "code",
   "execution_count": null,
   "id": "bb627fa6-ac67-4ece-b914-c0e48c77e13a",
   "metadata": {},
   "outputs": [],
   "source": [
    "import warnings\n",
    "warnings.filterwarnings(\"ignore\", category=UserWarning)\n",
    "warnings.filterwarnings(\"ignore\", category=DeprecationWarning)\n",
    "warnings.filterwarnings(\"ignore\", category=FutureWarning)"
   ]
  },
  {
   "cell_type": "code",
   "execution_count": null,
   "id": "9b5e7b64-839e-4279-99e1-400632c66e86",
   "metadata": {},
   "outputs": [],
   "source": [
    "import matplotlib\n",
    "import numpy as np\n",
    "import pandas as pd\n",
    "from scipy import stats\n",
    "import seaborn as sns\n",
    "import scanpy as sc\n",
    "import matplotlib.pyplot as plt\n",
    "from natsort import natsorted\n",
    "from itertools import combinations\n",
    "from scipy.stats import ttest_ind, f_oneway\n",
    "from statsmodels.stats.multitest import multipletests\n",
    "\n",
    "import OncoMarkAI as oma"
   ]
  },
  {
   "cell_type": "markdown",
   "id": "10795504-e8a9-4aa8-b991-bf84196026a5",
   "metadata": {},
   "source": [
    "# Plot setting"
   ]
  },
  {
   "cell_type": "code",
   "execution_count": null,
   "id": "9cc1d44e-9780-4b40-ad09-b05088b00288",
   "metadata": {},
   "outputs": [],
   "source": [
    "oma.pl.fig_setting()\n",
    "cmap = oma.pl.cmap()\n",
    "sns.set_style(\"ticks\");\n",
    "sns.despine(offset=10, trim=True);"
   ]
  },
  {
   "cell_type": "code",
   "execution_count": null,
   "id": "fb3f9988-9259-4e52-bd00-872ca81e1578",
   "metadata": {},
   "outputs": [],
   "source": [
    "## Read HLAs\n",
    "HLAs = pd.read_csv(\"../OncoMarkAI/data/datasets/OptiTypeCallsHLA_20171207.tsv\", index_col=8)\n",
    "HLAs.index = [\"-\".join(idx.split(\"-\")[:3]) for idx in HLAs.index]\n",
    "HLAs = HLAs.iloc[:, :6]\n",
    "HLAs = HLAs.rename_axis(\"submitter_id\").reset_index().drop_duplicates().set_index(\"submitter_id\")\n",
    "HLAs[\"A\"] = [[a1.split(\":\")[0], a2.split(\":\")[0]] for a1, a2 in HLAs[[\"A1\", \"A2\"]].values]"
   ]
  },
  {
   "cell_type": "code",
   "execution_count": null,
   "id": "7c141bb8-ac53-40ca-b0ac-9deea92f4c6a",
   "metadata": {},
   "outputs": [],
   "source": [
    "frac = HLAs[[\"A\"]].explode(\"A\").reset_index().drop_duplicates().groupby(\"A\").size().sort_values(ascending=False) / HLAs.index.nunique()\n",
    "frac = frac.to_frame(\"percentage\")\n",
    "frac[\"%\"] = round(frac*100, 1)\n",
    "frac[\"allotypes\"] = frac.index.astype(str) + \" (\" + frac[\"%\"].astype(str) + \"%)\""
   ]
  },
  {
   "cell_type": "code",
   "execution_count": null,
   "id": "68bc2b64-5c03-4827-ab12-4a848a13e170",
   "metadata": {},
   "outputs": [],
   "source": [
    "frac"
   ]
  },
  {
   "cell_type": "code",
   "execution_count": null,
   "id": "fb692749-5511-481c-8e93-99af4a58cb5e",
   "metadata": {},
   "outputs": [],
   "source": [
    "patient_data_TCGA_tumor = oma.data.load_tcga(file_path=\"../OncoMarkAI/data/datasets/TCGA_log2TPMplus1_protein_coding_transcripts_20221113.h5ad\", \n",
    "                                             metadata=\"../OncoMarkAI/data/datasets/combined_study_clinical_data_cBioPortal.tsv\",\n",
    "                                             filter_samples=100, sample_type=\"Tumor\", genes=[\"IGSF8\", \"KIR3DL2\"])\n",
    "IGSF8_tumor = patient_data_TCGA_tumor.to_df().join(patient_data_TCGA_tumor.obs[[\"project_id\",\"submitter_id\", \"samples.sample_type\"]])\n",
    "IGSF8_tumor = IGSF8_tumor[~IGSF8_tumor['project_id'].isin(['LAML', \"DLBC\"])].set_index(\"submitter_id\")"
   ]
  },
  {
   "cell_type": "code",
   "execution_count": null,
   "id": "62489ec4-37b3-4f72-9f94-7401cdc0215b",
   "metadata": {},
   "outputs": [],
   "source": [
    "HLA_A_IGSF8 = HLAs[[\"A\"]].explode(\"A\").join(IGSF8_tumor).dropna()\n",
    "HLA_A_IGSF8[\"A\"] = [a.split(\":\")[0] for a in HLA_A_IGSF8[\"A\"]]\n",
    "HLA_A_IGSF8 = HLA_A_IGSF8[HLA_A_IGSF8[\"A\"].isin(frac.index[:10])]\n",
    "HLA_A_IGSF8[\"allotypes\"] = HLA_A_IGSF8[\"A\"].map(frac[\"allotypes\"])"
   ]
  },
  {
   "cell_type": "code",
   "execution_count": null,
   "id": "7419fefc-847e-4476-ac7a-79681bde733f",
   "metadata": {},
   "outputs": [],
   "source": [
    "HLA_A_IGSF8"
   ]
  },
  {
   "cell_type": "code",
   "execution_count": null,
   "id": "17227194-8941-4f8f-b9eb-0ebe1a379224",
   "metadata": {},
   "outputs": [],
   "source": [
    "grouped = HLA_A_IGSF8.groupby(['A'])\n",
    "tstat_results = pd.DataFrame(index=grouped[\"A\"].count().index, columns=[\"tstat\", \"pvalue\"])\n",
    "for idx,row in tstat_results.iterrows():\n",
    "    tstat, p_value = ttest_ind(HLA_A_IGSF8.query('A==@idx')[\"IGSF8\"].values, HLA_A_IGSF8.query('A!=@idx')[\"IGSF8\"].values)\n",
    "    tstat_results.loc[idx, \"tstat\"] = tstat\n",
    "    tstat_results.loc[idx, \"pvalue\"] = p_value\n",
    "tstat_results.loc[:, \"adj.pval\"] = multipletests(tstat_results.loc[:, \"pvalue\"], method='fdr_bh', alpha=0.05)[1]"
   ]
  },
  {
   "cell_type": "code",
   "execution_count": null,
   "id": "213909c6-5c3c-4a15-aa2d-7c6f4c60e4da",
   "metadata": {},
   "outputs": [],
   "source": [
    "tstat_results"
   ]
  },
  {
   "cell_type": "code",
   "execution_count": null,
   "id": "122c0a42-e3f9-46b5-8598-b5899c40a786",
   "metadata": {},
   "outputs": [],
   "source": [
    "tstat_results = tstat_results[tstat_results[\"adj.pval\"] < 0.05]\n",
    "tstat_results"
   ]
  },
  {
   "cell_type": "code",
   "execution_count": null,
   "id": "6220bfb8-7ecd-4d5d-b58e-38ff97d11ce8",
   "metadata": {},
   "outputs": [],
   "source": [
    "HLA_A_IGSF8"
   ]
  },
  {
   "cell_type": "markdown",
   "id": "2ecd5caf-4763-47f3-8bde-1ab03d1bd738",
   "metadata": {},
   "source": [
    "# Split patients by A*03/11"
   ]
  },
  {
   "cell_type": "code",
   "execution_count": null,
   "id": "26caddd6-6342-4c75-9732-b6fa1c1a97a5",
   "metadata": {},
   "outputs": [],
   "source": [
    "## Read HLAs\n",
    "HLAs = pd.read_csv(\"../OncoMarkAI/data/datasets/OptiTypeCallsHLA_20171207.tsv\", index_col=8)\n",
    "HLAs.index = [\"-\".join(idx.split(\"-\")[:3]) for idx in HLAs.index]\n",
    "HLAs = HLAs.iloc[:, :2]\n",
    "HLAs[\"A1\"] = [a1.split(\":\")[0] for a1 in HLAs[\"A1\"].values]\n",
    "HLAs[\"A2\"] = [a1.split(\":\")[0] for a1 in HLAs[\"A2\"].values]\n",
    "\n",
    "HLAs = HLAs.rename_axis(\"submitter_id\").reset_index().drop_duplicates().set_index(\"submitter_id\")\n",
    "HLAs[\"A\"] = [natsorted([a1, a2]) if a1!=a2 else [a1]\n",
    "             for a1, a2 in HLAs[[\"A1\", \"A2\"]].values]\n",
    "HLAs = HLAs.loc[~HLAs.index.duplicated()]"
   ]
  },
  {
   "cell_type": "code",
   "execution_count": null,
   "id": "80836676-b83d-4900-8b27-7daf87308e09",
   "metadata": {},
   "outputs": [],
   "source": [
    "HLA_A03_mask = (HLAs[[\"A1\", \"A2\"]] == \"A*03\").sum(axis=1)>0\n",
    "HLA_A11_mask = (HLAs[[\"A1\", \"A2\"]] == \"A*11\").sum(axis=1)>0\n",
    "\n",
    "HLA_A_IGSF8[\"A*03/11\"] = HLA_A_IGSF8.index.map(HLA_A11_mask | HLA_A03_mask)\n",
    "HLA_A_IGSF8[\"A*03/11\"] = HLA_A_IGSF8[\"A*03/11\"].replace(True, \"positive\").replace(False, \"negative\")"
   ]
  },
  {
   "cell_type": "code",
   "execution_count": null,
   "id": "9169bf3b-62ee-408a-9ebd-abf15db09450",
   "metadata": {},
   "outputs": [],
   "source": [
    "HLA_A_IGSF8 = HLA_A_IGSF8.loc[HLA_A_IGSF8.index.duplicated()]"
   ]
  },
  {
   "cell_type": "code",
   "execution_count": null,
   "id": "c0ce31cd-fd03-493d-87fa-249993955272",
   "metadata": {},
   "outputs": [],
   "source": [
    "HLA_A_IGSF8"
   ]
  },
  {
   "cell_type": "code",
   "execution_count": null,
   "id": "0b058c76-28f7-4c03-ae49-c43e0c8bb801",
   "metadata": {},
   "outputs": [],
   "source": [
    "plt.figure(figsize=(3.5,2.2))\n",
    "ax = sns.boxplot(data=HLA_A_IGSF8,\n",
    "                 x=\"project_id\",\n",
    "                 order=HLA_A_IGSF8[[\"KIR3DL2\", \"project_id\"]].groupby(\"project_id\").median().sort_values(\"KIR3DL2\", ascending=False).index,\n",
    "                 y=\"KIR3DL2\",\n",
    "                 hue=\"A*03/11\",\n",
    "                 hue_order=[\"negative\", \"positive\"],                 \n",
    "                 palette={\"positive\": cmap.npg_palette(0), \"negative\": cmap.npg_palette(3)},\n",
    "                 fill=False,\n",
    "                 linecolor=\"#137\",\n",
    "                 linewidth=.5,\n",
    "                 width=.75,\n",
    "                 gap=0.2,\n",
    "                 showfliers=False,\n",
    "                 medianprops={'linewidth': 1},\n",
    "                )\n",
    "\n",
    "ax = sns.stripplot(data=HLA_A_IGSF8,\n",
    "                   x=\"project_id\",\n",
    "                   order=HLA_A_IGSF8[[\"KIR3DL2\", \"project_id\"]].groupby(\"project_id\").median().sort_values(\"KIR3DL2\", ascending=False).index,\n",
    "                   y=\"KIR3DL2\",\n",
    "                   hue=\"A*03/11\",\n",
    "                   hue_order=[\"negative\", \"positive\"],\n",
    "                   palette={\"positive\": cmap.npg_palette(0), \"negative\": cmap.npg_palette(3)},\n",
    "                   dodge=True,\n",
    "                   s=1,\n",
    "                   alpha=.5,\n",
    "                   jitter=.2,\n",
    "                   legend=False\n",
    "                  )\n",
    "\n",
    "ax.set_xlabel(\"\")\n",
    "ax.set_ylabel(\"KIR3DL2 expression log2(TPM+1)\", fontsize=5)\n",
    "ax.legend(loc=\"upper right\", title=\"HLA-A*03/11 carriers\",  title_fontsize=4, fontsize=4, frameon=False) #cols=1,\n",
    "ax.set_xticklabels(ax.get_xticklabels(), rotation=90)\n",
    "ax.set_ylim(None, 4.5)\n",
    "plt.savefig(\"../figures/FigS3U.pdf\")"
   ]
  },
  {
   "cell_type": "code",
   "execution_count": null,
   "id": "4cc638f3-9bf0-48a2-a715-c784fe868b1b",
   "metadata": {},
   "outputs": [],
   "source": [
    "plt.figure(figsize=(3.5,2.2))\n",
    "ax = sns.boxplot(data=HLA_A_IGSF8,\n",
    "                 x=\"project_id\",\n",
    "                 order=HLA_A_IGSF8[[\"IGSF8\", \"project_id\"]].groupby(\"project_id\").median().sort_values(\"IGSF8\", ascending=False).index,\n",
    "                 y=\"IGSF8\",\n",
    "                 hue=\"A*03/11\",\n",
    "                 palette={\"positive\": cmap.npg_palette(0), \"negative\": cmap.npg_palette(3)},\n",
    "                 hue_order=[\"negative\", \"positive\"],\n",
    "                 fill=False,\n",
    "                 linecolor=\"#137\",\n",
    "                 linewidth=.5,\n",
    "                 width=.75,\n",
    "                 gap=0.2,\n",
    "                 showfliers=False,\n",
    "                 medianprops={'linewidth': 1},\n",
    "                )\n",
    "\n",
    "ax = sns.stripplot(data=HLA_A_IGSF8,\n",
    "                   x=\"project_id\",\n",
    "                   order=HLA_A_IGSF8[[\"IGSF8\", \"project_id\"]].groupby(\"project_id\").median().sort_values(\"IGSF8\", ascending=False).index,\n",
    "                   y=\"IGSF8\",\n",
    "                   hue=\"A*03/11\",\n",
    "                   hue_order=[\"negative\", \"positive\"],\n",
    "                   palette={\"positive\": cmap.npg_palette(0), \"negative\": cmap.npg_palette(3)},\n",
    "                   dodge=True,\n",
    "                   s=1,\n",
    "                   alpha=.5,\n",
    "                   jitter=.2,\n",
    "                   legend=False\n",
    "                  )\n",
    "\n",
    "ax.set_xlabel(\"\")\n",
    "ax.set_ylabel(\"IGSF8 expression log2(TPM+1)\", fontsize=5)\n",
    "ax.legend(loc=\"upper right\", title=\"HLA-A*03/11 carriers\",  title_fontsize=4, fontsize=4, frameon=False) #cols=1,\n",
    "ax.set_xticklabels(ax.get_xticklabels(), rotation=90)\n",
    "ax.set_ylim(None, 11.5)\n",
    "plt.savefig(\"../figures/FigS3V.pdf\")"
   ]
  },
  {
   "cell_type": "markdown",
   "id": "be22dd4b-f85f-4f6a-9b7e-c0397327b918",
   "metadata": {},
   "source": [
    "## Survival analysis with HLA allotype stratification"
   ]
  },
  {
   "cell_type": "code",
   "execution_count": null,
   "id": "d2f86e73-a65f-479b-960b-c96dd15fff66",
   "metadata": {},
   "outputs": [],
   "source": [
    "## Read HLAs\n",
    "HLAs = pd.read_csv(\"../OncoMarkAI/data/datasets/OptiTypeCallsHLA_20171207.tsv\", index_col=8)\n",
    "HLAs.index = [\"-\".join(idx.split(\"-\")[:3]) for idx in HLAs.index]\n",
    "HLAs = HLAs.iloc[:, :2]\n",
    "HLAs[\"A1\"] = [a1.split(\":\")[0] for a1 in HLAs[\"A1\"].values]\n",
    "HLAs[\"A2\"] = [a1.split(\":\")[0] for a1 in HLAs[\"A2\"].values]\n",
    "\n",
    "HLAs = HLAs.rename_axis(\"submitter_id\").reset_index().drop_duplicates().set_index(\"submitter_id\")\n",
    "HLAs[\"A\"] = [natsorted([a1, a2]) if a1!=a2 else [a1]\n",
    "             for a1, a2 in HLAs[[\"A1\", \"A2\"]].values]\n",
    "HLAs = HLAs.loc[~HLAs.index.duplicated()]"
   ]
  },
  {
   "cell_type": "code",
   "execution_count": null,
   "id": "8c8bb00e-8f66-469a-a2e1-53d51987a9e5",
   "metadata": {},
   "outputs": [],
   "source": [
    "HLAs[[\"A\"]].explode(\"A\")"
   ]
  },
  {
   "cell_type": "code",
   "execution_count": null,
   "id": "ebdba6a7-ce88-4605-ba93-86531a7bd902",
   "metadata": {},
   "outputs": [],
   "source": [
    "HLA_A03_mask = (HLAs[[\"A1\", \"A2\"]] == \"A*03\").sum(axis=1)>0\n",
    "HLA_A11_mask = (HLAs[[\"A1\", \"A2\"]] == \"A*11\").sum(axis=1)>0"
   ]
  },
  {
   "cell_type": "code",
   "execution_count": null,
   "id": "1624feb9-120d-4876-8048-045c38b8f557",
   "metadata": {},
   "outputs": [],
   "source": [
    "# Read RNAseq data\n",
    "patient_data_TCGA = oma.data.load_tcga(file_path=\"../OncoMarkAI/data/datasets/TCGA_log2TPMplus1_protein_coding_transcripts_20221113.h5ad\", \n",
    "                                       metadata=\"../OncoMarkAI/data/datasets/combined_study_clinical_data_cBioPortal.tsv\",\n",
    "                                       filter_samples=100,\n",
    "                                       sample_type=\"Tumor\",\n",
    "                                       genes=[\"IGSF8\"])"
   ]
  },
  {
   "cell_type": "code",
   "execution_count": null,
   "id": "b1cf642e-cfe7-4f15-9ea1-048330b4b25e",
   "metadata": {},
   "outputs": [],
   "source": [
    "# generate a dataframe to integrate expression data and metadata\n",
    "expr_data = patient_data_TCGA.to_df().join(patient_data_TCGA.obs[[\"project_id\", \"samples.sample_type\", \"submitter_id\", \"cbioportal.subtype\", \"subtype(MSI)\", \"subtype(BRCA)\", \"subtype(SKCM)\", \"race\"]])\n",
    "\n",
    "# there are a few duplicated samples, likely processed by different analysts, we drop the duplicates and keep only the first entries\n",
    "expr_data = expr_data[~expr_data[\"submitter_id\"].duplicated()]"
   ]
  },
  {
   "cell_type": "code",
   "execution_count": null,
   "id": "fd2a2b63-bea6-4116-8838-5c0026a242c3",
   "metadata": {},
   "outputs": [],
   "source": [
    "# read the clinical data of TCGA patient samples. Data was obtained from Liu et al, Cell (2018).\n",
    "CDR = pd.read_excel(\"../OncoMarkAI/data/datasets/TCGA-CDR_Liu2018.xlsx\", index_col=1)\n",
    "\n",
    "# annotate the stage according to the Liu et al, Cell (2018)\n",
    "CDR.loc[CDR['type'].isin([\"CESC\", \"DLBC\", \"OV\", \"UCEC\", \"UCS\"]), 'stage'] = CDR.loc[CDR['type'].isin([\"CESC\", \"DLBC\", \"OV\", \"UCEC\", \"UCS\"]), 'clinical_stage']\n",
    "CDR.loc[~CDR['type'].isin([\"CESC\", \"DLBC\", \"OV\", \"UCEC\", \"UCS\"]), 'stage'] = CDR.loc[~CDR['type'].isin([\"CESC\", \"DLBC\", \"OV\", \"UCEC\", \"UCS\"]), 'ajcc_pathologic_tumor_stage']"
   ]
  },
  {
   "cell_type": "code",
   "execution_count": null,
   "id": "b53606b2-c2b3-44c0-86a0-9204a099234f",
   "metadata": {},
   "outputs": [],
   "source": [
    "# Map the stage info into \"early-stage\" (1) and \"late-stage\" (2)\n",
    "# We can also map it into 1, 2, 3, 4 as it is. The results are generally comparable, but some cohorts with few stage 4 tumors would run into issues.\n",
    "mapper = {\n",
    "    \"Stage I\": 1, \"Stage IA\": 1, \"Stage IA1\": 1, \"Stage IA2\": 1, \"Stage IB\": 1, \"Stage IB1\": 1, \"Stage IB2\": 1, \"Stage IC\": 1, \"I/II NOS\": 1,\n",
    "    \"Stage II\": 1, \"Stage IIA\": 1, \"Stage IIA1\": 1, \"Stage IIA2\": 1, \"Stage IIB\": 1, \"Stage IIC\": 1,\n",
    "    \"Stage III\": 2, \"Stage IIIA\": 2, \"Stage IIIB\": 2, \"Stage IIIC\": 2, \"Stage IIIC1\": 2, \"Stage IIIC2\": 2,\n",
    "    \"Stage IV\": 2, \"Stage IVA\": 2, \"Stage IVB\": 2, \"Stage IVC\": 2\n",
    "}"
   ]
  },
  {
   "cell_type": "code",
   "execution_count": null,
   "id": "34f7417f-a5f0-430b-9fe1-b8af264e0b95",
   "metadata": {},
   "outputs": [],
   "source": [
    "# Map the clinical info into expression data\n",
    "expr_data[\"age\"] = expr_data[\"submitter_id\"].map(CDR[\"age_at_initial_pathologic_diagnosis\"])\n",
    "expr_data[\"gender\"] = expr_data[\"submitter_id\"].map(CDR[\"gender\"])\n",
    "expr_data[\"race\"] = expr_data[\"submitter_id\"].map(CDR[\"race\"])\n",
    "expr_data[\"stage\"] = expr_data[\"submitter_id\"].map(CDR[\"stage\"].map(mapper))\n",
    "expr_data[\"OS\"] = expr_data[\"submitter_id\"].map(CDR[\"OS\"])\n",
    "expr_data[\"OS.time\"] = expr_data[\"submitter_id\"].map(CDR[\"OS.time\"])\n",
    "expr_data[\"PFI\"] = expr_data[\"submitter_id\"].map(CDR[\"PFI\"])\n",
    "expr_data[\"PFI.time\"] = expr_data[\"submitter_id\"].map(CDR[\"PFI.time\"])\n",
    "expr_data[\"race\"] = expr_data[\"race\"].replace(\"[Unknown]\", np.nan).replace(\"[Not Evaluated]\", np.nan).replace(\"[Not Available]\", np.nan)"
   ]
  },
  {
   "cell_type": "code",
   "execution_count": null,
   "id": "3b584a08-8d64-4673-b0c1-ce79c2794ddf",
   "metadata": {},
   "outputs": [],
   "source": [
    "# Add HLA-A*11 mask\n",
    "expr_data[\"A03\"] = expr_data[\"submitter_id\"].map(HLA_A03_mask)\n",
    "expr_data[\"A11\"] = expr_data[\"submitter_id\"].map(HLA_A11_mask)\n",
    "expr_data[\"A03/11\"] = expr_data[\"submitter_id\"].map(HLA_A11_mask | HLA_A03_mask) # Split patients into A03/A11 carrier or A03/11 non-carrier"
   ]
  },
  {
   "cell_type": "code",
   "execution_count": null,
   "id": "e3dc379f-8cd6-4db6-8c18-106dca9281da",
   "metadata": {},
   "outputs": [],
   "source": [
    "def divide_samples(df_input, divideby='IGSF8', cutoff='mean'):\n",
    "    \"\"\"\n",
    "    divide TCGA samples by the `divideby` parameter according the parameter of `cutoff`\n",
    "    \"\"\"\n",
    "    df = df_input.copy()\n",
    "    if cutoff==\"mean\":\n",
    "        df[f'{divideby}_group'] = np.sign(df[divideby] - df[divideby].mean())\n",
    "        df[f'{divideby}_group'] = df[f'{divideby}_group'].mask(df[f'{divideby}_group'] ==1, \"high\")\n",
    "        df[f'{divideby}_group'] = df[f'{divideby}_group'].mask(df[f'{divideby}_group'] ==-1, \"low\")\n",
    "\n",
    "    elif cutoff==\"median\":\n",
    "        df[f'{divideby}_group'] = np.sign(df[divideby] - df[divideby].median())\n",
    "        df[f'{divideby}_group'] = df[f'{divideby}_group'].mask(df[f'{divideby}_group'] ==1, \"high\")\n",
    "        df[f'{divideby}_group'] = df[f'{divideby}_group'].mask(df[f'{divideby}_group'] ==-1, \"low\")\n",
    "\n",
    "    elif float(cutoff) < 1 and float(cutoff) >= 0.5:     \n",
    "\n",
    "        cutoff1 = df[divideby].quantile(q=float(cutoff))\n",
    "        cutoff2 = df[divideby].quantile(q=1-float(cutoff))\n",
    "\n",
    "        df.loc[:, f'{divideby}_group'] = \"intermediate\"\n",
    "        df.loc[:, f'{divideby}_group'] = df[f'{divideby}_group'].mask(df[divideby]>cutoff1, \"high\").copy()\n",
    "        df.loc[:, f'{divideby}_group'] = df[f'{divideby}_group'].mask(df[divideby]<cutoff2, \"low\").copy()\n",
    "        \n",
    "    elif cutoff == 1:\n",
    "\n",
    "        df.loc[:, f'{divideby}_group'] = \"high\"\n",
    "        df.loc[:, f'{divideby}_group'] = df[f'{divideby}_group'].mask(df[divideby]!=cutoff, \"low\").copy()\n",
    "\n",
    "    high = df[df[f'{divideby}_group'] == \"high\"]\n",
    "    low = df[df[f'{divideby}_group'] == \"low\"]\n",
    "    \n",
    "    return high, low, df"
   ]
  },
  {
   "cell_type": "code",
   "execution_count": null,
   "id": "9f3fc7dc-eddd-42e4-87e1-dfb140191e8a",
   "metadata": {},
   "outputs": [],
   "source": [
    "def get_four_subpopulations(input_df, divideby=[\"A03/11\", \"IGSF8\"], cutoff=[1, \".75\"]):\n",
    "    \"\"\"\n",
    "    A helper function to divide patient samples into four subgroups\n",
    "    \"\"\"\n",
    "    survival_subdata = input_df[input_df[\"OS.time\"].notna()]\n",
    "    div1_high, div1_low, _ = divide_samples(survival_subdata, divideby=divideby[0], cutoff=cutoff[0])\n",
    "    \n",
    "    div1_high_div2_high, div1_high_div2_low, _ = divide_samples(div1_high, divideby=divideby[1], cutoff=cutoff[1])\n",
    "    div1_low_div2_high, div1_low_div2_low, _ = divide_samples(div1_low, divideby=divideby[1], cutoff=cutoff[1])\n",
    "    \n",
    "    return div1_high_div2_high, div1_high_div2_low, div1_low_div2_high, div1_low_div2_low"
   ]
  },
  {
   "cell_type": "code",
   "execution_count": null,
   "id": "0670ce92-01a0-4d1c-aec3-035d29771f67",
   "metadata": {},
   "outputs": [],
   "source": [
    "from lifelines import KaplanMeierFitter, CoxPHFitter\n",
    "from lifelines.statistics import logrank_test\n",
    "\n",
    "def logrank_p_value(data1, data2, event=\"OS\", time=\"OS.time\"):\n",
    "    \"\"\"\n",
    "    calculate log rank p values\n",
    "    \"\"\"\n",
    "    result = logrank_test(data1[time], data2[time],\n",
    "                          data1[event], data2[event])\n",
    "    return result.p_value\n",
    "\n",
    "def cox_regression_p_value(survival_data, formula='age + gender + stage + race + IGSF8', event=\"OS\", time=\"OS.time\"): #   + cbioportal.subtype\n",
    "    \"\"\"\n",
    "    Fit a cox regression model. Age, gender and stage are considered as covariates.\n",
    "    \"\"\"\n",
    "    cph = CoxPHFitter(penalizer=0.5)#\n",
    "    cols = formula.split(\" + \") + [time, event]\n",
    "    tmp = survival_data[cols].dropna()\n",
    "    cph.fit(tmp, formula=formula, duration_col=time, event_col=event, robust=True)\n",
    "    \n",
    "    return cph.summary.loc[\"IGSF8\", \"p\"], cph"
   ]
  },
  {
   "cell_type": "code",
   "execution_count": null,
   "id": "eb68ea10-c7b6-4434-bbb9-8d46ffd0d1f7",
   "metadata": {},
   "outputs": [],
   "source": [
    "# Calculate HR for all cohorts. Similar to the previous codes, but plotting is excluded.\n",
    "\n",
    "coxs = []\n",
    "\n",
    "for pid in [\n",
    "    'KIRP', 'PAAD', 'BRCA', 'READ', 'UCEC',  \n",
    "    'TGCT', 'THCA',  'KIRC', 'COAD',\n",
    "    'STAD', 'SKCM', 'LUSC', 'HNSC', 'CESC', 'LIHC', 'LUAD', 'BLCA',\n",
    "           ]:\n",
    "    \n",
    "    survival_subdata = expr_data.query('project_id==@pid')\n",
    "    survival_subdata = survival_subdata[survival_subdata[\"OS.time\"].notna()]\n",
    "    div1_high, div1_low, _ = divide_samples(survival_subdata, divideby=\"IGSF8\", cutoff=\".75\")\n",
    "    \n",
    "    # hypothesis testing for IGSF8-high and IGSF8-low groups within the MHCI-high population\n",
    "    p_logrank = logrank_p_value(div1_high, div1_low, event=\"OS\", time=\"OS.time\")\n",
    "    p_cox1, cox_res1 = cox_regression_p_value(pd.concat([div1_high, div1_low]), \n",
    "                                      formula='age + gender + stage + race + IGSF8', #\n",
    "                                      event=\"OS\", time=\"OS.time\")\n",
    "    p_cox2, cox_res2 = cox_regression_p_value(pd.concat([div1_high, div1_low]), \n",
    "                                      formula='age + gender + stage + race + A03 + A11 + IGSF8', #\n",
    "                                      event=\"OS\", time=\"OS.time\")\n",
    "    \n",
    "    cox_res1 = cox_res1.summary.loc['IGSF8', ['exp(coef)', 'exp(coef) lower 95%', 'exp(coef) upper 95%', 'p']].to_frame(\"A*03/A*11 uncorrected\").T\n",
    "    cox_res1['sample_size'] = survival_subdata.shape[0]\n",
    "\n",
    "    cox_res2 = cox_res2.summary.loc['IGSF8', ['exp(coef)', 'exp(coef) lower 95%', 'exp(coef) upper 95%', 'p']].to_frame(\"A*03/A*11 corrected\").T\n",
    "    cox_res2['sample_size'] = survival_subdata.shape[0]\n",
    "    \n",
    "    cox = pd.concat([cox_res1, cox_res2], axis=0)\n",
    "    cox['project'] = pid\n",
    "        \n",
    "    coxs.append(cox)\n",
    "    \n",
    "coxs = pd.concat(coxs)"
   ]
  },
  {
   "cell_type": "code",
   "execution_count": null,
   "id": "5fbee5ac-c6c4-4385-a62b-acbd69eda127",
   "metadata": {},
   "outputs": [],
   "source": [
    "coxs"
   ]
  },
  {
   "cell_type": "code",
   "execution_count": null,
   "id": "3d414ea5-1006-4054-84b1-47d7f839143b",
   "metadata": {},
   "outputs": [],
   "source": [
    "# target the cohorts of significance\n",
    "coxs = coxs.query('sample_size>20')\n",
    "coxs = coxs.rename_axis(\"HLA_adjusted\").reset_index()\n",
    "coxs['ci'] = (coxs['exp(coef) upper 95%'] - coxs['exp(coef) lower 95%']) / 2\n",
    "\n",
    "# manipulate the dataframe\n",
    "coxs1 = coxs.set_index([\"project\", \"HLA_adjusted\"]).unstack()\n",
    "coxs1.columns = coxs1.columns.swaplevel()\n",
    "coxs1 = coxs1.sort_index(axis=1)\n",
    "\n",
    "MHCI_high_HR = coxs1[['A*03/A*11 uncorrected']].sort_values((\"A*03/A*11 uncorrected\", \"exp(coef)\")).reset_index()\n",
    "MHCI_low_HR = coxs1[['A*03/A*11 corrected']].reindex(MHCI_high_HR['project']).reset_index()"
   ]
  },
  {
   "cell_type": "code",
   "execution_count": null,
   "id": "77322efd-eb2a-4e74-abeb-a466fe21b501",
   "metadata": {},
   "outputs": [],
   "source": [
    "# set markers for different groups, MHCI-high and MHCI-low\n",
    "\n",
    "errorbar_kwargs_low = {\"c\": cmap.npg_palette(3),\n",
    "                       \"fmt\": \"s\",\n",
    "                       \"markersize\": 3,\n",
    "                       \"markerfacecolor\": cmap.npg_palette(3),\n",
    "                       \"markeredgewidth\": .5,\n",
    "                       \"capsize\": 1.,\n",
    "                       \"elinewidth\": .5\n",
    "                      }\n",
    "\n",
    "errorbar_kwargs_high = {\"c\": cmap.npg_palette(0),\n",
    "                        \"fmt\": \"s\",\n",
    "                        \"markersize\": 3,\n",
    "                        \"markerfacecolor\": cmap.npg_palette(0),\n",
    "                        \"markeredgewidth\": .5,\n",
    "                        \"capsize\": 1.,\n",
    "                        \"elinewidth\": .5\n",
    "                       }"
   ]
  },
  {
   "cell_type": "code",
   "execution_count": null,
   "id": "7017129e-dad2-4c12-bda3-2480cde0621e",
   "metadata": {},
   "outputs": [],
   "source": [
    "# plotting\n",
    "\n",
    "from matplotlib.patches import Patch\n",
    "\n",
    "plt.figure(figsize = (2.5, 3.2));\n",
    "plt.errorbar(MHCI_low_HR['A*03/A*11 corrected'][\"exp(coef)\"], MHCI_low_HR.index + .17, xerr=MHCI_low_HR['A*03/A*11 corrected'][\"ci\"], **errorbar_kwargs_low);\n",
    "plt.errorbar(MHCI_high_HR['A*03/A*11 uncorrected'][\"exp(coef)\"], MHCI_high_HR.index - .17, xerr=MHCI_high_HR['A*03/A*11 uncorrected'][\"ci\"], **errorbar_kwargs_high);\n",
    "\n",
    "[plt.text(row[\"exp(coef) upper 95%\"] + .05, idx + .1, f\"p={row['p']:.3f}\", fontsize=4, c=cmap.npg_palette(3)) for idx, row in MHCI_low_HR['A*03/A*11 corrected'].iterrows() if row['p']<.05]\n",
    "[plt.text(row[\"exp(coef) upper 95%\"] + .05, idx - .2, f\"p={row['p']:.3f}\", fontsize=4, c=cmap.npg_palette(0)) for idx, row in MHCI_high_HR['A*03/A*11 uncorrected'].iterrows() \n",
    " if row['p']<.05 and row[\"exp(coef) upper 95%\"]<5]\n",
    "\n",
    "[plt.text(row[\"exp(coef) upper 95%\"] - 2, idx + .05, f\"p={row['p']:.3f}\", fontsize=4, c=cmap.npg_palette(0)) for idx, row in MHCI_high_HR['A*03/A*11 uncorrected'].iterrows() \n",
    " if row['p']<.05 and row[\"exp(coef) upper 95%\"]>5]\n",
    "\n",
    "plt.vlines(1, -1., 16.5, ls=\"--\", lw=.5, color='gray')\n",
    "plt.yticks(MHCI_high_HR.index, MHCI_high_HR['project'].values, fontsize=6)\n",
    "plt.ylim(-.5, 16.5)\n",
    "# plt.xlim(-3.5, 20.)\n",
    "plt.xlabel(\"Hazard Ratio for IGSF8 (95% CI)\", fontsize=6)\n",
    "\n",
    "handles = [\n",
    "    Patch(edgecolor=color, facecolor=color, label=label) \n",
    "    for label, color in zip(['A*03/A*11 corrected', 'A*03/A*11 uncorrected'], [cmap.npg_palette(3), cmap.npg_palette(0)])\n",
    "]\n",
    "plt.legend(handles=handles, loc=(-0.01, 1.02), ncols=2, fontsize=5, frameon=False);\n",
    "\n",
    "plt.savefig(\"../figures/FigS3X.pdf\", bbox_inches = \"tight\")"
   ]
  }
 ],
 "metadata": {
  "kernelspec": {
   "display_name": "IGSF8",
   "language": "python",
   "name": "igsf8"
  },
  "language_info": {
   "codemirror_mode": {
    "name": "ipython",
    "version": 3
   },
   "file_extension": ".py",
   "mimetype": "text/x-python",
   "name": "python",
   "nbconvert_exporter": "python",
   "pygments_lexer": "ipython3",
   "version": "3.11.4"
  }
 },
 "nbformat": 4,
 "nbformat_minor": 5
}
